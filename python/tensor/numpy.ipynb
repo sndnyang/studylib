{
 "cells": [
  {
   "cell_type": "markdown",
   "metadata": {},
   "source": [
    "# Useful operations on Tensor"
   ]
  },
  {
   "cell_type": "code",
   "execution_count": null,
   "metadata": {},
   "outputs": [],
   "source": [
    "import numpy as np\n",
    "\n",
    "from numpy_operation import *"
   ]
  },
  {
   "cell_type": "markdown",
   "metadata": {},
   "source": [
    "## Advanced indexing\n",
    "\n",
    "Any tensor with dimension M x N x K x ...can get values by indexing like:\n",
    "\n",
    "\n",
    "values = tensor[a list for M, a list for N, a list for K, ...]"
   ]
  },
  {
   "cell_type": "code",
   "execution_count": null,
   "metadata": {},
   "outputs": [],
   "source": [
    "# We have 32 images with 10 x 10 pixels.\n",
    "# TODO:\n",
    "# Set the diagonal of each images = 1\n",
    "\n",
    "np.random.seed(10)\n",
    "tensor = np.random.random((32, 10, 10))\n",
    "tensor[ , , ] = 1\n",
    "\n",
    "check_diag(tensor)"
   ]
  },
  {
   "cell_type": "code",
   "execution_count": null,
   "metadata": {},
   "outputs": [],
   "source": []
  },
  {
   "cell_type": "markdown",
   "metadata": {},
   "source": [
    "## Advanced ..."
   ]
  },
  {
   "cell_type": "code",
   "execution_count": 5,
   "metadata": {},
   "outputs": [],
   "source": [
    "base = np.arange(100).reshape(10, 10)"
   ]
  },
  {
   "cell_type": "code",
   "execution_count": 8,
   "metadata": {},
   "outputs": [
    {
     "data": {
      "text/plain": [
       "(32, 10, 10)"
      ]
     },
     "execution_count": 8,
     "metadata": {},
     "output_type": "execute_result"
    }
   ],
   "source": [
    "# TODO\n",
    "# extend it to 32 images\n",
    "\n",
    "batch = np.repeat(base.reshape(1, 10, 10), 32, axis=0)\n",
    "batch.shape"
   ]
  },
  {
   "cell_type": "code",
   "execution_count": 10,
   "metadata": {},
   "outputs": [],
   "source": [
    "# TODO\n",
    "# for each image in the 32 images\n",
    "# transpose it\n",
    "\n",
    "trans = np.transpose(batch, axes=(0, 2, 1))"
   ]
  },
  {
   "cell_type": "code",
   "execution_count": 11,
   "metadata": {},
   "outputs": [
    {
     "data": {
      "text/plain": [
       "array([[ 0, 10, 20, 30, 40, 50, 60, 70, 80, 90],\n",
       "       [ 1, 11, 21, 31, 41, 51, 61, 71, 81, 91],\n",
       "       [ 2, 12, 22, 32, 42, 52, 62, 72, 82, 92],\n",
       "       [ 3, 13, 23, 33, 43, 53, 63, 73, 83, 93],\n",
       "       [ 4, 14, 24, 34, 44, 54, 64, 74, 84, 94],\n",
       "       [ 5, 15, 25, 35, 45, 55, 65, 75, 85, 95],\n",
       "       [ 6, 16, 26, 36, 46, 56, 66, 76, 86, 96],\n",
       "       [ 7, 17, 27, 37, 47, 57, 67, 77, 87, 97],\n",
       "       [ 8, 18, 28, 38, 48, 58, 68, 78, 88, 98],\n",
       "       [ 9, 19, 29, 39, 49, 59, 69, 79, 89, 99]])"
      ]
     },
     "execution_count": 11,
     "metadata": {},
     "output_type": "execute_result"
    }
   ],
   "source": [
    "trans[0]"
   ]
  },
  {
   "cell_type": "code",
   "execution_count": 18,
   "metadata": {},
   "outputs": [],
   "source": [
    "# TODO\n",
    "# 32 vectors (32 x 10)\n",
    "# compute the difference for each pair of values of each vector\n",
    "# 32 x 45 ( 32 x 55 )\n",
    "\n",
    "base = np.arange(10)\n",
    "batch_v = np.repeat(base[np.newaxis, :], 32, axis=0)\n"
   ]
  },
  {
   "cell_type": "code",
   "execution_count": 19,
   "metadata": {},
   "outputs": [
    {
     "data": {
      "text/plain": [
       "(32, 10)"
      ]
     },
     "execution_count": 19,
     "metadata": {},
     "output_type": "execute_result"
    }
   ],
   "source": [
    "batch_v.shape"
   ]
  },
  {
   "cell_type": "code",
   "execution_count": 25,
   "metadata": {},
   "outputs": [
    {
     "name": "stdout",
     "output_type": "stream",
     "text": [
      "(32, 10, 10)\n"
     ]
    },
    {
     "data": {
      "text/plain": [
       "array([[[ 0, -1, -2, ..., -7, -8, -9],\n",
       "        [ 1,  0, -1, ..., -6, -7, -8],\n",
       "        [ 2,  1,  0, ..., -5, -6, -7],\n",
       "        ...,\n",
       "        [ 7,  6,  5, ...,  0, -1, -2],\n",
       "        [ 8,  7,  6, ...,  1,  0, -1],\n",
       "        [ 9,  8,  7, ...,  2,  1,  0]],\n",
       "\n",
       "       [[ 0, -1, -2, ..., -7, -8, -9],\n",
       "        [ 1,  0, -1, ..., -6, -7, -8],\n",
       "        [ 2,  1,  0, ..., -5, -6, -7],\n",
       "        ...,\n",
       "        [ 7,  6,  5, ...,  0, -1, -2],\n",
       "        [ 8,  7,  6, ...,  1,  0, -1],\n",
       "        [ 9,  8,  7, ...,  2,  1,  0]],\n",
       "\n",
       "       [[ 0, -1, -2, ..., -7, -8, -9],\n",
       "        [ 1,  0, -1, ..., -6, -7, -8],\n",
       "        [ 2,  1,  0, ..., -5, -6, -7],\n",
       "        ...,\n",
       "        [ 7,  6,  5, ...,  0, -1, -2],\n",
       "        [ 8,  7,  6, ...,  1,  0, -1],\n",
       "        [ 9,  8,  7, ...,  2,  1,  0]],\n",
       "\n",
       "       ...,\n",
       "\n",
       "       [[ 0, -1, -2, ..., -7, -8, -9],\n",
       "        [ 1,  0, -1, ..., -6, -7, -8],\n",
       "        [ 2,  1,  0, ..., -5, -6, -7],\n",
       "        ...,\n",
       "        [ 7,  6,  5, ...,  0, -1, -2],\n",
       "        [ 8,  7,  6, ...,  1,  0, -1],\n",
       "        [ 9,  8,  7, ...,  2,  1,  0]],\n",
       "\n",
       "       [[ 0, -1, -2, ..., -7, -8, -9],\n",
       "        [ 1,  0, -1, ..., -6, -7, -8],\n",
       "        [ 2,  1,  0, ..., -5, -6, -7],\n",
       "        ...,\n",
       "        [ 7,  6,  5, ...,  0, -1, -2],\n",
       "        [ 8,  7,  6, ...,  1,  0, -1],\n",
       "        [ 9,  8,  7, ...,  2,  1,  0]],\n",
       "\n",
       "       [[ 0, -1, -2, ..., -7, -8, -9],\n",
       "        [ 1,  0, -1, ..., -6, -7, -8],\n",
       "        [ 2,  1,  0, ..., -5, -6, -7],\n",
       "        ...,\n",
       "        [ 7,  6,  5, ...,  0, -1, -2],\n",
       "        [ 8,  7,  6, ...,  1,  0, -1],\n",
       "        [ 9,  8,  7, ...,  2,  1,  0]]])"
      ]
     },
     "execution_count": 25,
     "metadata": {},
     "output_type": "execute_result"
    }
   ],
   "source": [
    "# \n",
    "\n",
    "batch_matrix = np.repeat(batch_v[:, :, np.newaxis], 10, axis=2)\n",
    "batch_t = np.repeat(batch_v[:, :, np.newaxis], 10, axis=2)\n",
    "print(batch_t.shape)\n",
    "batch_matrix - np.transpose(batch_t, (0, 2, 1))"
   ]
  },
  {
   "cell_type": "code",
   "execution_count": null,
   "metadata": {},
   "outputs": [],
   "source": []
  }
 ],
 "metadata": {
  "kernelspec": {
   "display_name": "Python 3",
   "language": "python",
   "name": "python3"
  },
  "language_info": {
   "codemirror_mode": {
    "name": "ipython",
    "version": 3
   },
   "file_extension": ".py",
   "mimetype": "text/x-python",
   "name": "python",
   "nbconvert_exporter": "python",
   "pygments_lexer": "ipython3",
   "version": "3.6.4"
  }
 },
 "nbformat": 4,
 "nbformat_minor": 2
}
